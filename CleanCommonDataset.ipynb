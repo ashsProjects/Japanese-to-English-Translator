{
 "cells": [
  {
   "cell_type": "code",
   "execution_count": 1,
   "metadata": {},
   "outputs": [],
   "source": [
    "import pandas as pd\n",
    "import numpy as np"
   ]
  },
  {
   "cell_type": "code",
   "execution_count": 31,
   "metadata": {},
   "outputs": [],
   "source": [
    "df = pd.read_csv(\"generated\\\\commonnormal.csv\", usecols=[0,1,2,3], names=[\"Japanese\", \"English\", \"Hiragana\", \"POS\"])"
   ]
  },
  {
   "cell_type": "code",
   "execution_count": 32,
   "metadata": {},
   "outputs": [],
   "source": [
    "df.set_index(df.columns[0], inplace=True)"
   ]
  },
  {
   "cell_type": "code",
   "execution_count": 53,
   "metadata": {},
   "outputs": [],
   "source": [
    "df[\"Hiragana\"] = df[\"Hiragana\"].map(lambda x: x[x.index(\"[\") + 1:x.index(\"]\")] if \"[\" in str(x) else x)"
   ]
  },
  {
   "cell_type": "code",
   "execution_count": 54,
   "metadata": {},
   "outputs": [
    {
     "data": {
      "text/html": [
       "<div>\n",
       "<style scoped>\n",
       "    .dataframe tbody tr th:only-of-type {\n",
       "        vertical-align: middle;\n",
       "    }\n",
       "\n",
       "    .dataframe tbody tr th {\n",
       "        vertical-align: top;\n",
       "    }\n",
       "\n",
       "    .dataframe thead th {\n",
       "        text-align: right;\n",
       "    }\n",
       "</style>\n",
       "<table border=\"1\" class=\"dataframe\">\n",
       "  <thead>\n",
       "    <tr style=\"text-align: right;\">\n",
       "      <th></th>\n",
       "      <th>English</th>\n",
       "      <th>Hiragana</th>\n",
       "      <th>POS</th>\n",
       "    </tr>\n",
       "    <tr>\n",
       "      <th>Japanese</th>\n",
       "      <th></th>\n",
       "      <th></th>\n",
       "      <th></th>\n",
       "    </tr>\n",
       "  </thead>\n",
       "  <tbody>\n",
       "    <tr>\n",
       "      <th>周り</th>\n",
       "      <td>circumference, girth</td>\n",
       "      <td>まわ</td>\n",
       "      <td>Noun</td>\n",
       "    </tr>\n",
       "    <tr>\n",
       "      <th>学校</th>\n",
       "      <td>school</td>\n",
       "      <td>がっこう</td>\n",
       "      <td>Noun</td>\n",
       "    </tr>\n",
       "    <tr>\n",
       "      <th>川</th>\n",
       "      <td>river, stream</td>\n",
       "      <td>かわ</td>\n",
       "      <td>Noun</td>\n",
       "    </tr>\n",
       "    <tr>\n",
       "      <th>手</th>\n",
       "      <td>hand, arm</td>\n",
       "      <td>て</td>\n",
       "      <td>Noun</td>\n",
       "    </tr>\n",
       "    <tr>\n",
       "      <th>戸</th>\n",
       "      <td>door (esp. Japanese-style)</td>\n",
       "      <td>と</td>\n",
       "      <td>Noun</td>\n",
       "    </tr>\n",
       "    <tr>\n",
       "      <th>...</th>\n",
       "      <td>...</td>\n",
       "      <td>...</td>\n",
       "      <td>...</td>\n",
       "    </tr>\n",
       "    <tr>\n",
       "      <th>ミラー</th>\n",
       "      <td>mirror</td>\n",
       "      <td>ミラー</td>\n",
       "      <td>Noun</td>\n",
       "    </tr>\n",
       "    <tr>\n",
       "      <th>パーク</th>\n",
       "      <td>park (public, amusement, etc.)</td>\n",
       "      <td>パーク</td>\n",
       "      <td>Noun</td>\n",
       "    </tr>\n",
       "    <tr>\n",
       "      <th>ナイト</th>\n",
       "      <td>knight</td>\n",
       "      <td>ナイト</td>\n",
       "      <td>Noun</td>\n",
       "    </tr>\n",
       "    <tr>\n",
       "      <th>バッティング</th>\n",
       "      <td>batting (baseball, cricket, etc.)</td>\n",
       "      <td>バッティング</td>\n",
       "      <td>Noun</td>\n",
       "    </tr>\n",
       "    <tr>\n",
       "      <th>ステップ</th>\n",
       "      <td>step (of a staircase, etc.), running board (of...</td>\n",
       "      <td>ステップ</td>\n",
       "      <td>Noun</td>\n",
       "    </tr>\n",
       "  </tbody>\n",
       "</table>\n",
       "<p>16627 rows × 3 columns</p>\n",
       "</div>"
      ],
      "text/plain": [
       "                                                    English Hiragana   POS\n",
       "Japanese                                                                  \n",
       "周り                                     circumference, girth       まわ  Noun\n",
       "学校                                                   school     がっこう  Noun\n",
       "川                                             river, stream       かわ  Noun\n",
       "手                                                 hand, arm        て  Noun\n",
       "戸                                door (esp. Japanese-style)        と  Noun\n",
       "...                                                     ...      ...   ...\n",
       "ミラー                                                  mirror      ミラー  Noun\n",
       "パーク                          park (public, amusement, etc.)      パーク  Noun\n",
       "ナイト                                                  knight      ナイト  Noun\n",
       "バッティング                    batting (baseball, cricket, etc.)   バッティング  Noun\n",
       "ステップ      step (of a staircase, etc.), running board (of...     ステップ  Noun\n",
       "\n",
       "[16627 rows x 3 columns]"
      ]
     },
     "execution_count": 54,
     "metadata": {},
     "output_type": "execute_result"
    }
   ],
   "source": [
    "df"
   ]
  },
  {
   "cell_type": "code",
   "execution_count": 55,
   "metadata": {},
   "outputs": [],
   "source": [
    "df.to_csv(\"common_japanese.csv\")"
   ]
  },
  {
   "cell_type": "code",
   "execution_count": null,
   "metadata": {},
   "outputs": [],
   "source": []
  }
 ],
 "metadata": {
  "kernelspec": {
   "display_name": "Python 3",
   "language": "python",
   "name": "python3"
  },
  "language_info": {
   "codemirror_mode": {
    "name": "ipython",
    "version": 3
   },
   "file_extension": ".py",
   "mimetype": "text/x-python",
   "name": "python",
   "nbconvert_exporter": "python",
   "pygments_lexer": "ipython3",
   "version": "3.10.3"
  },
  "orig_nbformat": 4
 },
 "nbformat": 4,
 "nbformat_minor": 2
}
